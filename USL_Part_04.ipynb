{
  "nbformat": 4,
  "nbformat_minor": 0,
  "metadata": {
    "colab": {
      "name": "USL_Part-04.ipynb",
      "provenance": [],
      "collapsed_sections": [],
      "toc_visible": true
    },
    "kernelspec": {
      "name": "python3",
      "display_name": "Python 3"
    },
    "language_info": {
      "name": "python"
    }
  },
  "cells": [
    {
      "cell_type": "markdown",
      "metadata": {
        "id": "tjs2IWbQ4R1W"
      },
      "source": [
        "# Goal is to build a data driven batsman ranking model for the sports management company to make business decisions."
      ]
    },
    {
      "cell_type": "markdown",
      "metadata": {
        "id": "nh69kasX4ux4"
      },
      "source": [
        "Import libraries and Load the Data file into Python DataFrame and view top 10 rows"
      ]
    },
    {
      "cell_type": "code",
      "metadata": {
        "id": "ndlC4y_F4wlw"
      },
      "source": [
        "import numpy as np   \n",
        "from sklearn.linear_model import LinearRegression\n",
        "import pandas as pd    \n",
        "import matplotlib.pyplot as plt \n",
        "%matplotlib inline \n",
        "import seaborn as sns\n",
        "from sklearn.decomposition import PCA"
      ],
      "execution_count": 2,
      "outputs": []
    },
    {
      "cell_type": "markdown",
      "metadata": {
        "id": "dFMpx21R9fqz"
      },
      "source": [
        "# Load and review data"
      ]
    },
    {
      "cell_type": "code",
      "metadata": {
        "colab": {
          "base_uri": "https://localhost:8080/"
        },
        "id": "7m5GViUS9hDa",
        "outputId": "8f3779e8-a808-486b-8e9b-3a1649a66e9c"
      },
      "source": [
        "pData = pd.read_csv(\"Part4 - batting_bowling_ipl_bat.csv\")  \n",
        "pData.shape"
      ],
      "execution_count": 7,
      "outputs": [
        {
          "output_type": "execute_result",
          "data": {
            "text/plain": [
              "(180, 7)"
            ]
          },
          "metadata": {
            "tags": []
          },
          "execution_count": 7
        }
      ]
    },
    {
      "cell_type": "code",
      "metadata": {
        "colab": {
          "base_uri": "https://localhost:8080/",
          "height": 195
        },
        "id": "6cpmrZaE-Rva",
        "outputId": "d000c96b-8946-4172-c73f-7ff73ccd1c43"
      },
      "source": [
        "pData.head()"
      ],
      "execution_count": 8,
      "outputs": [
        {
          "output_type": "execute_result",
          "data": {
            "text/html": [
              "<div>\n",
              "<style scoped>\n",
              "    .dataframe tbody tr th:only-of-type {\n",
              "        vertical-align: middle;\n",
              "    }\n",
              "\n",
              "    .dataframe tbody tr th {\n",
              "        vertical-align: top;\n",
              "    }\n",
              "\n",
              "    .dataframe thead th {\n",
              "        text-align: right;\n",
              "    }\n",
              "</style>\n",
              "<table border=\"1\" class=\"dataframe\">\n",
              "  <thead>\n",
              "    <tr style=\"text-align: right;\">\n",
              "      <th></th>\n",
              "      <th>Name</th>\n",
              "      <th>Runs</th>\n",
              "      <th>Ave</th>\n",
              "      <th>SR</th>\n",
              "      <th>Fours</th>\n",
              "      <th>Sixes</th>\n",
              "      <th>HF</th>\n",
              "    </tr>\n",
              "  </thead>\n",
              "  <tbody>\n",
              "    <tr>\n",
              "      <th>0</th>\n",
              "      <td>NaN</td>\n",
              "      <td>NaN</td>\n",
              "      <td>NaN</td>\n",
              "      <td>NaN</td>\n",
              "      <td>NaN</td>\n",
              "      <td>NaN</td>\n",
              "      <td>NaN</td>\n",
              "    </tr>\n",
              "    <tr>\n",
              "      <th>1</th>\n",
              "      <td>CH Gayle</td>\n",
              "      <td>733.0</td>\n",
              "      <td>61.08</td>\n",
              "      <td>160.74</td>\n",
              "      <td>46.0</td>\n",
              "      <td>59.0</td>\n",
              "      <td>9.0</td>\n",
              "    </tr>\n",
              "    <tr>\n",
              "      <th>2</th>\n",
              "      <td>NaN</td>\n",
              "      <td>NaN</td>\n",
              "      <td>NaN</td>\n",
              "      <td>NaN</td>\n",
              "      <td>NaN</td>\n",
              "      <td>NaN</td>\n",
              "      <td>NaN</td>\n",
              "    </tr>\n",
              "    <tr>\n",
              "      <th>3</th>\n",
              "      <td>G Gambhir</td>\n",
              "      <td>590.0</td>\n",
              "      <td>36.87</td>\n",
              "      <td>143.55</td>\n",
              "      <td>64.0</td>\n",
              "      <td>17.0</td>\n",
              "      <td>6.0</td>\n",
              "    </tr>\n",
              "    <tr>\n",
              "      <th>4</th>\n",
              "      <td>NaN</td>\n",
              "      <td>NaN</td>\n",
              "      <td>NaN</td>\n",
              "      <td>NaN</td>\n",
              "      <td>NaN</td>\n",
              "      <td>NaN</td>\n",
              "      <td>NaN</td>\n",
              "    </tr>\n",
              "  </tbody>\n",
              "</table>\n",
              "</div>"
            ],
            "text/plain": [
              "        Name   Runs    Ave      SR  Fours  Sixes   HF\n",
              "0        NaN    NaN    NaN     NaN    NaN    NaN  NaN\n",
              "1   CH Gayle  733.0  61.08  160.74   46.0   59.0  9.0\n",
              "2        NaN    NaN    NaN     NaN    NaN    NaN  NaN\n",
              "3  G Gambhir  590.0  36.87  143.55   64.0   17.0  6.0\n",
              "4        NaN    NaN    NaN     NaN    NaN    NaN  NaN"
            ]
          },
          "metadata": {
            "tags": []
          },
          "execution_count": 8
        }
      ]
    },
    {
      "cell_type": "markdown",
      "metadata": {
        "id": "_FrIuU4L-fjR"
      },
      "source": [
        "Since the focus is on the PCA technique, we will drop the non-numerica variables. Remember 'name' is categorical"
      ]
    },
    {
      "cell_type": "code",
      "metadata": {
        "colab": {
          "base_uri": "https://localhost:8080/",
          "height": 195
        },
        "id": "76y3wfvD-jsH",
        "outputId": "e82bb703-a89a-43d2-aa1f-ddf093e9297d"
      },
      "source": [
        "#dropping/ignoring car_name  and origin\n",
        "pData = pData.drop(['Name'], axis=1)\n",
        "pData.head()"
      ],
      "execution_count": 10,
      "outputs": [
        {
          "output_type": "execute_result",
          "data": {
            "text/html": [
              "<div>\n",
              "<style scoped>\n",
              "    .dataframe tbody tr th:only-of-type {\n",
              "        vertical-align: middle;\n",
              "    }\n",
              "\n",
              "    .dataframe tbody tr th {\n",
              "        vertical-align: top;\n",
              "    }\n",
              "\n",
              "    .dataframe thead th {\n",
              "        text-align: right;\n",
              "    }\n",
              "</style>\n",
              "<table border=\"1\" class=\"dataframe\">\n",
              "  <thead>\n",
              "    <tr style=\"text-align: right;\">\n",
              "      <th></th>\n",
              "      <th>Runs</th>\n",
              "      <th>Ave</th>\n",
              "      <th>SR</th>\n",
              "      <th>Fours</th>\n",
              "      <th>Sixes</th>\n",
              "      <th>HF</th>\n",
              "    </tr>\n",
              "  </thead>\n",
              "  <tbody>\n",
              "    <tr>\n",
              "      <th>0</th>\n",
              "      <td>NaN</td>\n",
              "      <td>NaN</td>\n",
              "      <td>NaN</td>\n",
              "      <td>NaN</td>\n",
              "      <td>NaN</td>\n",
              "      <td>NaN</td>\n",
              "    </tr>\n",
              "    <tr>\n",
              "      <th>1</th>\n",
              "      <td>733.0</td>\n",
              "      <td>61.08</td>\n",
              "      <td>160.74</td>\n",
              "      <td>46.0</td>\n",
              "      <td>59.0</td>\n",
              "      <td>9.0</td>\n",
              "    </tr>\n",
              "    <tr>\n",
              "      <th>2</th>\n",
              "      <td>NaN</td>\n",
              "      <td>NaN</td>\n",
              "      <td>NaN</td>\n",
              "      <td>NaN</td>\n",
              "      <td>NaN</td>\n",
              "      <td>NaN</td>\n",
              "    </tr>\n",
              "    <tr>\n",
              "      <th>3</th>\n",
              "      <td>590.0</td>\n",
              "      <td>36.87</td>\n",
              "      <td>143.55</td>\n",
              "      <td>64.0</td>\n",
              "      <td>17.0</td>\n",
              "      <td>6.0</td>\n",
              "    </tr>\n",
              "    <tr>\n",
              "      <th>4</th>\n",
              "      <td>NaN</td>\n",
              "      <td>NaN</td>\n",
              "      <td>NaN</td>\n",
              "      <td>NaN</td>\n",
              "      <td>NaN</td>\n",
              "      <td>NaN</td>\n",
              "    </tr>\n",
              "  </tbody>\n",
              "</table>\n",
              "</div>"
            ],
            "text/plain": [
              "    Runs    Ave      SR  Fours  Sixes   HF\n",
              "0    NaN    NaN     NaN    NaN    NaN  NaN\n",
              "1  733.0  61.08  160.74   46.0   59.0  9.0\n",
              "2    NaN    NaN     NaN    NaN    NaN  NaN\n",
              "3  590.0  36.87  143.55   64.0   17.0  6.0\n",
              "4    NaN    NaN     NaN    NaN    NaN  NaN"
            ]
          },
          "metadata": {
            "tags": []
          },
          "execution_count": 10
        }
      ]
    },
    {
      "cell_type": "markdown",
      "metadata": {
        "id": "uOkikcVv-0Mx"
      },
      "source": [
        "# Dealing with Missing Values"
      ]
    },
    {
      "cell_type": "code",
      "metadata": {
        "colab": {
          "base_uri": "https://localhost:8080/"
        },
        "id": "G5JRwXf__GyL",
        "outputId": "a8e8cf95-57b2-4296-8853-3ec7fa0752a2"
      },
      "source": [
        "pData.isna().sum()"
      ],
      "execution_count": 11,
      "outputs": [
        {
          "output_type": "execute_result",
          "data": {
            "text/plain": [
              "Runs     90\n",
              "Ave      90\n",
              "SR       90\n",
              "Fours    90\n",
              "Sixes    90\n",
              "HF       90\n",
              "dtype: int64"
            ]
          },
          "metadata": {
            "tags": []
          },
          "execution_count": 11
        }
      ]
    },
    {
      "cell_type": "code",
      "metadata": {
        "colab": {
          "base_uri": "https://localhost:8080/"
        },
        "id": "PFdRM2i3_cJq",
        "outputId": "a4e14aa8-d0ca-4abb-d2c6-89f5b8011f01"
      },
      "source": [
        "df1 = pData.dropna()\n",
        "print(df1)"
      ],
      "execution_count": 12,
      "outputs": [
        {
          "output_type": "stream",
          "text": [
            "      Runs    Ave      SR  Fours  Sixes   HF\n",
            "1    733.0  61.08  160.74   46.0   59.0  9.0\n",
            "3    590.0  36.87  143.55   64.0   17.0  6.0\n",
            "5    495.0  33.00  161.23   57.0   19.0  5.0\n",
            "7    479.0  43.54  149.68   41.0   20.0  5.0\n",
            "9    569.0  40.64  129.61   58.0   18.0  5.0\n",
            "..     ...    ...     ...    ...    ...  ...\n",
            "171   12.0   6.00   70.58    1.0    0.0  0.0\n",
            "173   19.0   4.75   70.37    2.0    0.0  0.0\n",
            "175   30.0   5.00   58.82    4.0    0.0  0.0\n",
            "177    6.0   3.00   50.00    0.0    0.0  0.0\n",
            "179    2.0   0.50   18.18    0.0    0.0  0.0\n",
            "\n",
            "[90 rows x 6 columns]\n"
          ],
          "name": "stdout"
        }
      ]
    },
    {
      "cell_type": "code",
      "metadata": {
        "colab": {
          "base_uri": "https://localhost:8080/"
        },
        "id": "jCh9Nb6d_j8O",
        "outputId": "188fc48d-56fb-445e-c1ff-f70b4fa58392"
      },
      "source": [
        "df1.info()"
      ],
      "execution_count": 13,
      "outputs": [
        {
          "output_type": "stream",
          "text": [
            "<class 'pandas.core.frame.DataFrame'>\n",
            "Int64Index: 90 entries, 1 to 179\n",
            "Data columns (total 6 columns):\n",
            " #   Column  Non-Null Count  Dtype  \n",
            "---  ------  --------------  -----  \n",
            " 0   Runs    90 non-null     float64\n",
            " 1   Ave     90 non-null     float64\n",
            " 2   SR      90 non-null     float64\n",
            " 3   Fours   90 non-null     float64\n",
            " 4   Sixes   90 non-null     float64\n",
            " 5   HF      90 non-null     float64\n",
            "dtypes: float64(6)\n",
            "memory usage: 4.9 KB\n"
          ],
          "name": "stdout"
        }
      ]
    },
    {
      "cell_type": "code",
      "metadata": {
        "colab": {
          "base_uri": "https://localhost:8080/",
          "height": 920
        },
        "id": "FWfgR_V3_09K",
        "outputId": "02dba62f-8e96-4e1f-a41b-3ff0c5354b8c"
      },
      "source": [
        "# independant variables\n",
        "X = df1.drop(['Ave'], axis=1)\n",
        "# the dependent variable\n",
        "y = df1[['Ave']]\n",
        "\n",
        "sns.pairplot(X, diag_kind='kde')   # to plot density curve instead of histogram on the diag"
      ],
      "execution_count": 15,
      "outputs": [
        {
          "output_type": "execute_result",
          "data": {
            "text/plain": [
              "<seaborn.axisgrid.PairGrid at 0x7fcb5d69f210>"
            ]
          },
          "metadata": {
            "tags": []
          },
          "execution_count": 15
        },
        {
          "output_type": "display_data",
          "data": {
            "image/png": "[encoded data removed]",
            "text/plain": [
              "<Figure size 900x900 with 30 Axes>"
            ]
          },
          "metadata": {
            "tags": [],
            "needs_background": "light"
          }
        }
      ]
    },
    {
      "cell_type": "code",
      "metadata": {
        "colab": {
          "base_uri": "https://localhost:8080/",
          "height": 195
        },
        "id": "FEzV_Pz1ALK4",
        "outputId": "1e97a569-e5b6-4c8e-e040-84bf639257ae"
      },
      "source": [
        "from scipy.stats import zscore\n",
        "XScaled=X.apply(zscore)\n",
        "XScaled.head()"
      ],
      "execution_count": 16,
      "outputs": [
        {
          "output_type": "execute_result",
          "data": {
            "text/html": [
              "<div>\n",
              "<style scoped>\n",
              "    .dataframe tbody tr th:only-of-type {\n",
              "        vertical-align: middle;\n",
              "    }\n",
              "\n",
              "    .dataframe tbody tr th {\n",
              "        vertical-align: top;\n",
              "    }\n",
              "\n",
              "    .dataframe thead th {\n",
              "        text-align: right;\n",
              "    }\n",
              "</style>\n",
              "<table border=\"1\" class=\"dataframe\">\n",
              "  <thead>\n",
              "    <tr style=\"text-align: right;\">\n",
              "      <th></th>\n",
              "      <th>Runs</th>\n",
              "      <th>SR</th>\n",
              "      <th>Fours</th>\n",
              "      <th>Sixes</th>\n",
              "      <th>HF</th>\n",
              "    </tr>\n",
              "  </thead>\n",
              "  <tbody>\n",
              "    <tr>\n",
              "      <th>1</th>\n",
              "      <td>3.301945</td>\n",
              "      <td>1.767325</td>\n",
              "      <td>1.607207</td>\n",
              "      <td>6.462679</td>\n",
              "      <td>4.651551</td>\n",
              "    </tr>\n",
              "    <tr>\n",
              "      <th>3</th>\n",
              "      <td>2.381639</td>\n",
              "      <td>1.036605</td>\n",
              "      <td>2.710928</td>\n",
              "      <td>1.184173</td>\n",
              "      <td>2.865038</td>\n",
              "    </tr>\n",
              "    <tr>\n",
              "      <th>5</th>\n",
              "      <td>1.770248</td>\n",
              "      <td>1.788154</td>\n",
              "      <td>2.281703</td>\n",
              "      <td>1.435530</td>\n",
              "      <td>2.269533</td>\n",
              "    </tr>\n",
              "    <tr>\n",
              "      <th>7</th>\n",
              "      <td>1.667276</td>\n",
              "      <td>1.297182</td>\n",
              "      <td>1.300618</td>\n",
              "      <td>1.561209</td>\n",
              "      <td>2.269533</td>\n",
              "    </tr>\n",
              "    <tr>\n",
              "      <th>9</th>\n",
              "      <td>2.246490</td>\n",
              "      <td>0.444038</td>\n",
              "      <td>2.343021</td>\n",
              "      <td>1.309851</td>\n",
              "      <td>2.269533</td>\n",
              "    </tr>\n",
              "  </tbody>\n",
              "</table>\n",
              "</div>"
            ],
            "text/plain": [
              "       Runs        SR     Fours     Sixes        HF\n",
              "1  3.301945  1.767325  1.607207  6.462679  4.651551\n",
              "3  2.381639  1.036605  2.710928  1.184173  2.865038\n",
              "5  1.770248  1.788154  2.281703  1.435530  2.269533\n",
              "7  1.667276  1.297182  1.300618  1.561209  2.269533\n",
              "9  2.246490  0.444038  2.343021  1.309851  2.269533"
            ]
          },
          "metadata": {
            "tags": []
          },
          "execution_count": 16
        }
      ]
    },
    {
      "cell_type": "code",
      "metadata": {
        "colab": {
          "base_uri": "https://localhost:8080/"
        },
        "id": "0aciyeS4AQzB",
        "outputId": "7509a73e-b2b8-4232-c769-478d8c9b9f83"
      },
      "source": [
        "covMatrix = np.cov(XScaled,rowvar=False)\n",
        "print(covMatrix)"
      ],
      "execution_count": 17,
      "outputs": [
        {
          "output_type": "stream",
          "text": [
            "[[1.01123596 0.49903347 0.9291323  0.77842677 0.84453142]\n",
            " [0.49903347 1.01123596 0.38913406 0.59050396 0.43238784]\n",
            " [0.9291323  0.38913406 1.01123596 0.52844526 0.79249429]\n",
            " [0.77842677 0.59050396 0.52844526 1.01123596 0.77632221]\n",
            " [0.84453142 0.43238784 0.79249429 0.77632221 1.01123596]]\n"
          ],
          "name": "stdout"
        }
      ]
    },
    {
      "cell_type": "code",
      "metadata": {
        "colab": {
          "base_uri": "https://localhost:8080/"
        },
        "id": "JthagYX2AVXS",
        "outputId": "78a94ef6-94d9-481d-cdc3-50657f8d87a0"
      },
      "source": [
        "pca = PCA(n_components=4)\n",
        "pca.fit(XScaled)"
      ],
      "execution_count": 19,
      "outputs": [
        {
          "output_type": "execute_result",
          "data": {
            "text/plain": [
              "PCA(copy=True, iterated_power='auto', n_components=4, random_state=None,\n",
              "    svd_solver='auto', tol=0.0, whiten=False)"
            ]
          },
          "metadata": {
            "tags": []
          },
          "execution_count": 19
        }
      ]
    },
    {
      "cell_type": "markdown",
      "metadata": {
        "id": "iA3XRQUOAefX"
      },
      "source": [
        "# The eigen Values"
      ]
    },
    {
      "cell_type": "code",
      "metadata": {
        "colab": {
          "base_uri": "https://localhost:8080/"
        },
        "id": "K57Dx2toAfps",
        "outputId": "9a2acccc-7611-425f-9d9b-c59fe76b8940"
      },
      "source": [
        "print(pca.explained_variance_)"
      ],
      "execution_count": 20,
      "outputs": [
        {
          "output_type": "stream",
          "text": [
            "[3.68478222 0.76834943 0.4166537  0.16789085]\n"
          ],
          "name": "stdout"
        }
      ]
    },
    {
      "cell_type": "markdown",
      "metadata": {
        "id": "Z6d1J_CcAu1_"
      },
      "source": [
        "# The eigen Vectors"
      ]
    },
    {
      "cell_type": "code",
      "metadata": {
        "colab": {
          "base_uri": "https://localhost:8080/"
        },
        "id": "If7_eJYWAxMh",
        "outputId": "c183e6c8-fcb2-46b6-abc3-00c2d444c7d0"
      },
      "source": [
        "print(pca.components_)"
      ],
      "execution_count": 21,
      "outputs": [
        {
          "output_type": "stream",
          "text": [
            "[[ 0.50187534  0.33604567  0.45359181  0.44869171  0.47762398]\n",
            " [ 0.20984172 -0.81284324  0.423568   -0.27196631  0.20463821]\n",
            " [-0.10965304 -0.44684702 -0.50827022  0.67127805  0.28169331]\n",
            " [ 0.45896789 -0.15903601  0.08281919  0.36357126 -0.7905776 ]]\n"
          ],
          "name": "stdout"
        }
      ]
    },
    {
      "cell_type": "markdown",
      "metadata": {
        "id": "fo78ZCZyA3iu"
      },
      "source": [
        "And the percentage of variation explained by each eigen Vector"
      ]
    },
    {
      "cell_type": "code",
      "metadata": {
        "colab": {
          "base_uri": "https://localhost:8080/"
        },
        "id": "pLxVFNMSA4jE",
        "outputId": "b1b7b9ef-ce56-4668-e87f-b215fd587aaf"
      },
      "source": [
        "print(pca.explained_variance_ratio_)"
      ],
      "execution_count": 22,
      "outputs": [
        {
          "output_type": "stream",
          "text": [
            "[0.72876804 0.15196244 0.08240484 0.03320508]\n"
          ],
          "name": "stdout"
        }
      ]
    },
    {
      "cell_type": "code",
      "metadata": {
        "colab": {
          "base_uri": "https://localhost:8080/",
          "height": 279
        },
        "id": "YbYbz9ueA9_j",
        "outputId": "65bdeffc-d014-42e6-e3fc-dc3c5879dc41"
      },
      "source": [
        "plt.bar(list(range(1,5)),pca.explained_variance_ratio_,alpha=0.5, align='center')\n",
        "plt.ylabel('Variation explained')\n",
        "plt.xlabel('eigen Value')\n",
        "plt.show()"
      ],
      "execution_count": 24,
      "outputs": [
        {
          "output_type": "display_data",
          "data": {
            "image/png": "[encoded data removed]",
            "text/plain": [
              "<Figure size 432x288 with 1 Axes>"
            ]
          },
          "metadata": {
            "tags": [],
            "needs_background": "light"
          }
        }
      ]
    },
    {
      "cell_type": "code",
      "metadata": {
        "colab": {
          "base_uri": "https://localhost:8080/",
          "height": 279
        },
        "id": "nmQ5M7XnBH8N",
        "outputId": "4c3eebd3-9b61-4ec5-ae6f-ff7b879293bb"
      },
      "source": [
        "plt.step(list(range(1,5)),np.cumsum(pca.explained_variance_ratio_), where='mid')\n",
        "plt.ylabel('Cum of variation explained')\n",
        "plt.xlabel('eigen Value')\n",
        "plt.show()"
      ],
      "execution_count": 25,
      "outputs": [
        {
          "output_type": "display_data",
          "data": {
            "image/png": "[encoded data removed]",
            "text/plain": [
              "<Figure size 432x288 with 1 Axes>"
            ]
          },
          "metadata": {
            "tags": [],
            "needs_background": "light"
          }
        }
      ]
    },
    {
      "cell_type": "markdown",
      "metadata": {
        "id": "ReZjxV2OBOIN"
      },
      "source": [
        "# Dimensionality Reduction\n",
        "Now 2 dimensions seems very reasonable. With 2 variables we can explain over 95% of the variation in the original data!"
      ]
    },
    {
      "cell_type": "code",
      "metadata": {
        "colab": {
          "base_uri": "https://localhost:8080/"
        },
        "id": "5dSnHCrZBPUc",
        "outputId": "b04e908e-fddc-4144-9a25-0d4438122225"
      },
      "source": [
        "pca3 = PCA(n_components=2)\n",
        "pca3.fit(XScaled)\n",
        "print(pca3.components_)\n",
        "print(pca3.explained_variance_ratio_)\n",
        "Xpca3 = pca3.transform(XScaled)"
      ],
      "execution_count": 34,
      "outputs": [
        {
          "output_type": "stream",
          "text": [
            "[[ 0.50187534  0.33604567  0.45359181  0.44869171  0.47762398]\n",
            " [ 0.20984172 -0.81284324  0.423568   -0.27196631  0.20463821]]\n",
            "[0.72876804 0.15196244]\n"
          ],
          "name": "stdout"
        }
      ]
    },
    {
      "cell_type": "code",
      "metadata": {
        "colab": {
          "base_uri": "https://localhost:8080/"
        },
        "id": "AlPJTG_RBfIl",
        "outputId": "ceed87fb-fbbd-4530-a844-efce43dab048"
      },
      "source": [
        "Xpca3"
      ],
      "execution_count": 35,
      "outputs": [
        {
          "output_type": "execute_result",
          "data": {
            "text/plain": [
              "array([[ 8.10152541, -0.86865666],\n",
              "       [ 4.67302663,  1.06967285],\n",
              "       [ 4.25240095, -0.04154348],\n",
              "       [ 3.64711217, -0.11380416],\n",
              "       [ 4.01115296,  1.21110026],\n",
              "       [ 3.94415467,  1.87164752],\n",
              "       [ 1.95437354, -1.00513298],\n",
              "       [ 3.00043486,  0.63796584],\n",
              "       [ 2.0255917 , -1.18722575],\n",
              "       [ 0.44481517, -0.48176541],\n",
              "       [ 1.86405364, -1.28949355],\n",
              "       [ 1.34478171, -1.0389625 ],\n",
              "       [ 2.04572002, -0.02783656],\n",
              "       [ 1.68992559, -0.2671498 ],\n",
              "       [ 1.16136104, -1.09823098],\n",
              "       [ 1.71144937, -0.1407103 ],\n",
              "       [ 1.99136536, -0.2648631 ],\n",
              "       [ 1.17709644, -0.38487182],\n",
              "       [ 1.90886535,  1.02064248],\n",
              "       [ 1.91216444,  1.91337748],\n",
              "       [ 0.24685709, -1.55262135],\n",
              "       [ 1.37186663,  0.44108356],\n",
              "       [ 0.83448916, -0.63037827],\n",
              "       [ 0.80489196,  1.0844425 ],\n",
              "       [ 1.45592527,  0.77676867],\n",
              "       [ 1.11927059,  0.74541232],\n",
              "       [ 0.73408716, -0.90822714],\n",
              "       [ 1.06648245,  1.26490111],\n",
              "       [ 1.03633306,  0.84754632],\n",
              "       [ 0.69116405, -1.09322187],\n",
              "       [ 0.83248662,  1.02247848],\n",
              "       [ 0.49305212,  0.64939191],\n",
              "       [ 1.19246004,  1.07771052],\n",
              "       [ 0.77401644, -0.04467863],\n",
              "       [ 0.15444762, -0.69579365],\n",
              "       [ 0.48296953,  0.16172304],\n",
              "       [ 0.07089262, -0.9260388 ],\n",
              "       [ 0.32279033,  0.05476776],\n",
              "       [-0.79752733, -1.06177688],\n",
              "       [-0.36081816,  0.02778213],\n",
              "       [ 0.14643499,  1.26265572],\n",
              "       [-0.43696902, -1.0095129 ],\n",
              "       [-0.36053881, -0.71181606],\n",
              "       [-0.48631581, -0.56918261],\n",
              "       [-0.51172994,  0.59478549],\n",
              "       [-1.15303944, -0.9426024 ],\n",
              "       [-0.34124805,  0.6845827 ],\n",
              "       [-0.65774093, -1.94699205],\n",
              "       [-0.43364015, -0.09956523],\n",
              "       [-1.05157998, -0.61343469],\n",
              "       [-0.94396017, -0.6267263 ],\n",
              "       [-0.43557657, -0.66201928],\n",
              "       [-0.56871615,  0.61543973],\n",
              "       [-0.435798  ,  0.46571555],\n",
              "       [-1.06036299, -0.11228155],\n",
              "       [-1.09954781, -0.96777189],\n",
              "       [-0.80520718, -0.24315306],\n",
              "       [-0.41652524,  0.5922417 ],\n",
              "       [-0.62161285,  0.04473331],\n",
              "       [-0.66838244, -0.02302256],\n",
              "       [-0.39026205,  1.0080517 ],\n",
              "       [-0.78924033, -0.26325753],\n",
              "       [-0.89262935, -0.83709782],\n",
              "       [-1.04822062, -0.15074869],\n",
              "       [-1.21356398, -1.09123124],\n",
              "       [-1.30118015,  0.01599236],\n",
              "       [-1.27388691, -0.47780727],\n",
              "       [-1.18960782, -0.50109897],\n",
              "       [-1.34188976, -0.65216529],\n",
              "       [-1.1285003 ,  0.7163422 ],\n",
              "       [-1.4112576 ,  0.11569935],\n",
              "       [-1.58898469,  0.26248883],\n",
              "       [-1.71856673, -0.74733744],\n",
              "       [-1.7459961 , -0.26741209],\n",
              "       [-1.8369372 , -0.54529299],\n",
              "       [-1.83929948, -0.14232967],\n",
              "       [-1.75169918, -0.6582225 ],\n",
              "       [-1.78533178, -0.61352303],\n",
              "       [-1.86690903,  0.02524843],\n",
              "       [-1.78806096, -0.08931564],\n",
              "       [-1.9616614 , -0.1778454 ],\n",
              "       [-1.90052572, -0.6494767 ],\n",
              "       [-2.05953634,  0.12323189],\n",
              "       [-2.31836052,  0.28608945],\n",
              "       [-2.50618956,  0.70395717],\n",
              "       [-2.65367177,  1.02404148],\n",
              "       [-2.60624887,  1.06672315],\n",
              "       [-2.68008233,  1.53260635],\n",
              "       [-2.99484508,  1.70106045],\n",
              "       [-3.4623061 ,  2.79512472]])"
            ]
          },
          "metadata": {
            "tags": []
          },
          "execution_count": 35
        }
      ]
    },
    {
      "cell_type": "code",
      "metadata": {
        "colab": {
          "base_uri": "https://localhost:8080/",
          "height": 391
        },
        "id": "860TuhxwBjkI",
        "outputId": "56bd67b8-c409-4dd4-e634-23922f4f96c3"
      },
      "source": [
        "sns.pairplot(pd.DataFrame(Xpca3))"
      ],
      "execution_count": 36,
      "outputs": [
        {
          "output_type": "execute_result",
          "data": {
            "text/plain": [
              "<seaborn.axisgrid.PairGrid at 0x7fcb4ff463d0>"
            ]
          },
          "metadata": {
            "tags": []
          },
          "execution_count": 36
        },
        {
          "output_type": "display_data",
          "data": {
            "image/png": "[encoded data removed]",
            "text/plain": [
              "<Figure size 360x360 with 6 Axes>"
            ]
          },
          "metadata": {
            "tags": [],
            "needs_background": "light"
          }
        }
      ]
    },
    {
      "cell_type": "markdown",
      "metadata": {
        "id": "B25D_FzdBwoS"
      },
      "source": [
        "# Fit Linear Model\n",
        "Lets construct two linear models. The first with all the 6 independent variables and the second with only the 3 new variables constructed using PCA."
      ]
    },
    {
      "cell_type": "code",
      "metadata": {
        "colab": {
          "base_uri": "https://localhost:8080/"
        },
        "id": "1yxZcmrzBxwK",
        "outputId": "8afedadb-aba4-42ce-ba5e-24ec97eab72d"
      },
      "source": [
        "regression_model = LinearRegression()\n",
        "regression_model.fit(XScaled, y)\n",
        "regression_model.score(XScaled, y)"
      ],
      "execution_count": 37,
      "outputs": [
        {
          "output_type": "execute_result",
          "data": {
            "text/plain": [
              "0.6235574493253455"
            ]
          },
          "metadata": {
            "tags": []
          },
          "execution_count": 37
        }
      ]
    },
    {
      "cell_type": "code",
      "metadata": {
        "colab": {
          "base_uri": "https://localhost:8080/"
        },
        "id": "igzfFM9jCA94",
        "outputId": "f80e9d33-cc5d-4f9e-a52d-c6145b847849"
      },
      "source": [
        "regression_model_pca = LinearRegression()\n",
        "regression_model_pca.fit(Xpca3, y)\n",
        "regression_model_pca.score(Xpca3, y)"
      ],
      "execution_count": 38,
      "outputs": [
        {
          "output_type": "execute_result",
          "data": {
            "text/plain": [
              "0.5907515131357903"
            ]
          },
          "metadata": {
            "tags": []
          },
          "execution_count": 38
        }
      ]
    },
    {
      "cell_type": "markdown",
      "metadata": {
        "id": "YfEah1rxNrtv"
      },
      "source": [
        "# **k-means Clustering**\n",
        "identify based on avg as well as strike Rate\n"
      ]
    },
    {
      "cell_type": "markdown",
      "metadata": {
        "id": "XJIt_jJdONLZ"
      },
      "source": [
        "Now, we will use K-Means clustering to group data based on their attribute. First, we need to determine the optimal number of groups. For that we conduct the knee test to see where the knee happens.\n",
        "\n"
      ]
    },
    {
      "cell_type": "code",
      "metadata": {
        "colab": {
          "base_uri": "https://localhost:8080/",
          "height": 312
        },
        "id": "QmHutpw5OGGt",
        "outputId": "716b1831-3f1a-430b-d211-27a44a538e87"
      },
      "source": [
        "#Finding optimal no. of clusters\n",
        "from scipy.spatial.distance import cdist\n",
        "from sklearn.cluster import KMeans\n",
        "clusters=range(1,10)\n",
        "meanDistortions=[]\n",
        "\n",
        "for k in clusters:\n",
        "    model=KMeans(n_clusters=k)\n",
        "    model.fit(XScaled)\n",
        "    prediction=model.predict(XScaled)\n",
        "    meanDistortions.append(sum(np.min(cdist(XScaled, model.cluster_centers_, 'euclidean'), axis=1)) / XScaled.shape[0])\n",
        "\n",
        "\n",
        "plt.plot(clusters, meanDistortions, 'bx-')\n",
        "plt.xlabel('k')\n",
        "plt.ylabel('Average distortion')\n",
        "plt.title('Selecting k with the Elbow Method')"
      ],
      "execution_count": 43,
      "outputs": [
        {
          "output_type": "execute_result",
          "data": {
            "text/plain": [
              "Text(0.5, 1.0, 'Selecting k with the Elbow Method')"
            ]
          },
          "metadata": {
            "tags": []
          },
          "execution_count": 43
        },
        {
          "output_type": "display_data",
          "data": {
            "image/png": "[encoded data removed]",
            "text/plain": [
              "<Figure size 432x288 with 1 Axes>"
            ]
          },
          "metadata": {
            "tags": [],
            "needs_background": "light"
          }
        }
      ]
    },
    {
      "cell_type": "markdown",
      "metadata": {
        "id": "RZXqnYOgO_P_"
      },
      "source": [
        "Though the bend is not coming out clearly as there are many bends, let us look at 3 clusters and 5 clusters"
      ]
    },
    {
      "cell_type": "code",
      "metadata": {
        "colab": {
          "base_uri": "https://localhost:8080/",
          "height": 330
        },
        "id": "80HuyZApO5zT",
        "outputId": "5f61be4c-16af-410b-8aba-942ab620556c"
      },
      "source": [
        "# Let us first start with K = 3\n",
        "final_model=KMeans(3)\n",
        "final_model.fit(XScaled)\n",
        "prediction=final_model.predict(XScaled)\n",
        "\n",
        "#Append the prediction \n",
        "df1[\"GROUP\"] = prediction\n",
        "XScaled[\"GROUP\"] = prediction\n",
        "print(\"Groups Assigned : \\n\")\n",
        "df1.head()"
      ],
      "execution_count": 47,
      "outputs": [
        {
          "output_type": "stream",
          "text": [
            "Groups Assigned : \n",
            "\n"
          ],
          "name": "stdout"
        },
        {
          "output_type": "stream",
          "text": [
            "/usr/local/lib/python3.7/dist-packages/ipykernel_launcher.py:7: SettingWithCopyWarning: \n",
            "A value is trying to be set on a copy of a slice from a DataFrame.\n",
            "Try using .loc[row_indexer,col_indexer] = value instead\n",
            "\n",
            "See the caveats in the documentation: https://pandas.pydata.org/pandas-docs/stable/user_guide/indexing.html#returning-a-view-versus-a-copy\n",
            "  import sys\n"
          ],
          "name": "stderr"
        },
        {
          "output_type": "execute_result",
          "data": {
            "text/html": [
              "<div>\n",
              "<style scoped>\n",
              "    .dataframe tbody tr th:only-of-type {\n",
              "        vertical-align: middle;\n",
              "    }\n",
              "\n",
              "    .dataframe tbody tr th {\n",
              "        vertical-align: top;\n",
              "    }\n",
              "\n",
              "    .dataframe thead th {\n",
              "        text-align: right;\n",
              "    }\n",
              "</style>\n",
              "<table border=\"1\" class=\"dataframe\">\n",
              "  <thead>\n",
              "    <tr style=\"text-align: right;\">\n",
              "      <th></th>\n",
              "      <th>Runs</th>\n",
              "      <th>Ave</th>\n",
              "      <th>SR</th>\n",
              "      <th>Fours</th>\n",
              "      <th>Sixes</th>\n",
              "      <th>HF</th>\n",
              "      <th>avg</th>\n",
              "      <th>GROUP</th>\n",
              "    </tr>\n",
              "  </thead>\n",
              "  <tbody>\n",
              "    <tr>\n",
              "      <th>1</th>\n",
              "      <td>733.0</td>\n",
              "      <td>61.08</td>\n",
              "      <td>160.74</td>\n",
              "      <td>46.0</td>\n",
              "      <td>59.0</td>\n",
              "      <td>9.0</td>\n",
              "      <td>2</td>\n",
              "      <td>2</td>\n",
              "    </tr>\n",
              "    <tr>\n",
              "      <th>3</th>\n",
              "      <td>590.0</td>\n",
              "      <td>36.87</td>\n",
              "      <td>143.55</td>\n",
              "      <td>64.0</td>\n",
              "      <td>17.0</td>\n",
              "      <td>6.0</td>\n",
              "      <td>2</td>\n",
              "      <td>2</td>\n",
              "    </tr>\n",
              "    <tr>\n",
              "      <th>5</th>\n",
              "      <td>495.0</td>\n",
              "      <td>33.00</td>\n",
              "      <td>161.23</td>\n",
              "      <td>57.0</td>\n",
              "      <td>19.0</td>\n",
              "      <td>5.0</td>\n",
              "      <td>2</td>\n",
              "      <td>2</td>\n",
              "    </tr>\n",
              "    <tr>\n",
              "      <th>7</th>\n",
              "      <td>479.0</td>\n",
              "      <td>43.54</td>\n",
              "      <td>149.68</td>\n",
              "      <td>41.0</td>\n",
              "      <td>20.0</td>\n",
              "      <td>5.0</td>\n",
              "      <td>2</td>\n",
              "      <td>2</td>\n",
              "    </tr>\n",
              "    <tr>\n",
              "      <th>9</th>\n",
              "      <td>569.0</td>\n",
              "      <td>40.64</td>\n",
              "      <td>129.61</td>\n",
              "      <td>58.0</td>\n",
              "      <td>18.0</td>\n",
              "      <td>5.0</td>\n",
              "      <td>2</td>\n",
              "      <td>2</td>\n",
              "    </tr>\n",
              "  </tbody>\n",
              "</table>\n",
              "</div>"
            ],
            "text/plain": [
              "    Runs    Ave      SR  Fours  Sixes   HF  avg  GROUP\n",
              "1  733.0  61.08  160.74   46.0   59.0  9.0    2      2\n",
              "3  590.0  36.87  143.55   64.0   17.0  6.0    2      2\n",
              "5  495.0  33.00  161.23   57.0   19.0  5.0    2      2\n",
              "7  479.0  43.54  149.68   41.0   20.0  5.0    2      2\n",
              "9  569.0  40.64  129.61   58.0   18.0  5.0    2      2"
            ]
          },
          "metadata": {
            "tags": []
          },
          "execution_count": 47
        }
      ]
    },
    {
      "cell_type": "markdown",
      "metadata": {
        "id": "5rnZPREFPukq"
      },
      "source": [
        "Analyze the distribution of the data among the two groups (K = 3). One of the most informative visual tool is boxplot."
      ]
    },
    {
      "cell_type": "code",
      "metadata": {
        "colab": {
          "base_uri": "https://localhost:8080/",
          "height": 166
        },
        "id": "N_hzjC40Pvqi",
        "outputId": "9fa372d3-ffa9-43ce-c5c0-57d90ca927f4"
      },
      "source": [
        "pSuppClust = df1.groupby(['GROUP'])\n",
        "pSuppClust.mean()"
      ],
      "execution_count": 48,
      "outputs": [
        {
          "output_type": "execute_result",
          "data": {
            "text/html": [
              "<div>\n",
              "<style scoped>\n",
              "    .dataframe tbody tr th:only-of-type {\n",
              "        vertical-align: middle;\n",
              "    }\n",
              "\n",
              "    .dataframe tbody tr th {\n",
              "        vertical-align: top;\n",
              "    }\n",
              "\n",
              "    .dataframe thead th {\n",
              "        text-align: right;\n",
              "    }\n",
              "</style>\n",
              "<table border=\"1\" class=\"dataframe\">\n",
              "  <thead>\n",
              "    <tr style=\"text-align: right;\">\n",
              "      <th></th>\n",
              "      <th>Runs</th>\n",
              "      <th>Ave</th>\n",
              "      <th>SR</th>\n",
              "      <th>Fours</th>\n",
              "      <th>Sixes</th>\n",
              "      <th>HF</th>\n",
              "      <th>avg</th>\n",
              "    </tr>\n",
              "    <tr>\n",
              "      <th>GROUP</th>\n",
              "      <th></th>\n",
              "      <th></th>\n",
              "      <th></th>\n",
              "      <th></th>\n",
              "      <th></th>\n",
              "      <th></th>\n",
              "      <th></th>\n",
              "    </tr>\n",
              "  </thead>\n",
              "  <tbody>\n",
              "    <tr>\n",
              "      <th>0</th>\n",
              "      <td>112.725490</td>\n",
              "      <td>16.837451</td>\n",
              "      <td>109.557059</td>\n",
              "      <td>9.313725</td>\n",
              "      <td>3.235294</td>\n",
              "      <td>0.176471</td>\n",
              "      <td>0</td>\n",
              "    </tr>\n",
              "    <tr>\n",
              "      <th>1</th>\n",
              "      <td>318.312500</td>\n",
              "      <td>33.779062</td>\n",
              "      <td>129.269375</td>\n",
              "      <td>29.000000</td>\n",
              "      <td>11.125000</td>\n",
              "      <td>1.812500</td>\n",
              "      <td>1</td>\n",
              "    </tr>\n",
              "    <tr>\n",
              "      <th>2</th>\n",
              "      <td>551.285714</td>\n",
              "      <td>40.864286</td>\n",
              "      <td>142.962857</td>\n",
              "      <td>54.000000</td>\n",
              "      <td>23.000000</td>\n",
              "      <td>5.714286</td>\n",
              "      <td>2</td>\n",
              "    </tr>\n",
              "  </tbody>\n",
              "</table>\n",
              "</div>"
            ],
            "text/plain": [
              "             Runs        Ave          SR      Fours      Sixes        HF  avg\n",
              "GROUP                                                                        \n",
              "0      112.725490  16.837451  109.557059   9.313725   3.235294  0.176471    0\n",
              "1      318.312500  33.779062  129.269375  29.000000  11.125000  1.812500    1\n",
              "2      551.285714  40.864286  142.962857  54.000000  23.000000  5.714286    2"
            ]
          },
          "metadata": {
            "tags": []
          },
          "execution_count": 48
        }
      ]
    },
    {
      "cell_type": "code",
      "metadata": {
        "colab": {
          "base_uri": "https://localhost:8080/",
          "height": 1000
        },
        "id": "ZKK_HPjBQHUs",
        "outputId": "c320104a-abe1-4b61-fc4c-c20385318c28"
      },
      "source": [
        "XScaled.boxplot(by='GROUP', layout = (2,4),figsize=(15,10))"
      ],
      "execution_count": 49,
      "outputs": [
        {
          "output_type": "stream",
          "text": [
            "/usr/local/lib/python3.7/dist-packages/numpy/core/_asarray.py:83: VisibleDeprecationWarning: Creating an ndarray from ragged nested sequences (which is a list-or-tuple of lists-or-tuples-or ndarrays with different lengths or shapes) is deprecated. If you meant to do this, you must specify 'dtype=object' when creating the ndarray\n",
            "  return array(a, dtype, copy=False, order=order)\n",
            "/usr/local/lib/python3.7/dist-packages/numpy/core/_asarray.py:83: VisibleDeprecationWarning: Creating an ndarray from ragged nested sequences (which is a list-or-tuple of lists-or-tuples-or ndarrays with different lengths or shapes) is deprecated. If you meant to do this, you must specify 'dtype=object' when creating the ndarray\n",
            "  return array(a, dtype, copy=False, order=order)\n",
            "/usr/local/lib/python3.7/dist-packages/numpy/core/_asarray.py:83: VisibleDeprecationWarning: Creating an ndarray from ragged nested sequences (which is a list-or-tuple of lists-or-tuples-or ndarrays with different lengths or shapes) is deprecated. If you meant to do this, you must specify 'dtype=object' when creating the ndarray\n",
            "  return array(a, dtype, copy=False, order=order)\n",
            "/usr/local/lib/python3.7/dist-packages/numpy/core/_asarray.py:83: VisibleDeprecationWarning: Creating an ndarray from ragged nested sequences (which is a list-or-tuple of lists-or-tuples-or ndarrays with different lengths or shapes) is deprecated. If you meant to do this, you must specify 'dtype=object' when creating the ndarray\n",
            "  return array(a, dtype, copy=False, order=order)\n",
            "/usr/local/lib/python3.7/dist-packages/numpy/core/_asarray.py:83: VisibleDeprecationWarning: Creating an ndarray from ragged nested sequences (which is a list-or-tuple of lists-or-tuples-or ndarrays with different lengths or shapes) is deprecated. If you meant to do this, you must specify 'dtype=object' when creating the ndarray\n",
            "  return array(a, dtype, copy=False, order=order)\n",
            "/usr/local/lib/python3.7/dist-packages/numpy/core/_asarray.py:83: VisibleDeprecationWarning: Creating an ndarray from ragged nested sequences (which is a list-or-tuple of lists-or-tuples-or ndarrays with different lengths or shapes) is deprecated. If you meant to do this, you must specify 'dtype=object' when creating the ndarray\n",
            "  return array(a, dtype, copy=False, order=order)\n"
          ],
          "name": "stderr"
        },
        {
          "output_type": "execute_result",
          "data": {
            "text/plain": [
              "array([[<matplotlib.axes._subplots.AxesSubplot object at 0x7fcb4d1516d0>,\n",
              "        <matplotlib.axes._subplots.AxesSubplot object at 0x7fcb4d17aed0>,\n",
              "        <matplotlib.axes._subplots.AxesSubplot object at 0x7fcb4d129e50>,\n",
              "        <matplotlib.axes._subplots.AxesSubplot object at 0x7fcb4d0e2f10>],\n",
              "       [<matplotlib.axes._subplots.AxesSubplot object at 0x7fcb4d0a7050>,\n",
              "        <matplotlib.axes._subplots.AxesSubplot object at 0x7fcb4d063150>,\n",
              "        <matplotlib.axes._subplots.AxesSubplot object at 0x7fcb4d01c250>,\n",
              "        <matplotlib.axes._subplots.AxesSubplot object at 0x7fcb4cfdca10>]],\n",
              "      dtype=object)"
            ]
          },
          "metadata": {
            "tags": []
          },
          "execution_count": 49
        },
        {
          "output_type": "display_data",
          "data": {
            "image/png": "[encoded data removed]",
            "text/plain": [
              "<Figure size 1080x720 with 8 Axes>"
            ]
          },
          "metadata": {
            "tags": [],
            "needs_background": "light"
          }
        }
      ]
    },
    {
      "cell_type": "markdown",
      "metadata": {
        "id": "ybaaOiaRQS4c"
      },
      "source": [
        "#  Let us next try with K = 5, the next elbow point"
      ]
    },
    {
      "cell_type": "code",
      "metadata": {
        "colab": {
          "base_uri": "https://localhost:8080/",
          "height": 330
        },
        "id": "m_Jnu-jfQT6Z",
        "outputId": "67de3a91-eb5a-4cba-92a2-87c79b20ae82"
      },
      "source": [
        "# Let us first start with K = 5\n",
        "final_model=KMeans(5)\n",
        "final_model.fit(XScaled)\n",
        "prediction=final_model.predict(XScaled)\n",
        "\n",
        "#Append the prediction \n",
        "df1[\"GROUP\"] = prediction\n",
        "XScaled[\"GROUP\"] = prediction\n",
        "print(\"Groups Assigned : \\n\")\n",
        "df1.head()"
      ],
      "execution_count": 50,
      "outputs": [
        {
          "output_type": "stream",
          "text": [
            "Groups Assigned : \n",
            "\n"
          ],
          "name": "stdout"
        },
        {
          "output_type": "stream",
          "text": [
            "/usr/local/lib/python3.7/dist-packages/ipykernel_launcher.py:7: SettingWithCopyWarning: \n",
            "A value is trying to be set on a copy of a slice from a DataFrame.\n",
            "Try using .loc[row_indexer,col_indexer] = value instead\n",
            "\n",
            "See the caveats in the documentation: https://pandas.pydata.org/pandas-docs/stable/user_guide/indexing.html#returning-a-view-versus-a-copy\n",
            "  import sys\n"
          ],
          "name": "stderr"
        },
        {
          "output_type": "execute_result",
          "data": {
            "text/html": [
              "<div>\n",
              "<style scoped>\n",
              "    .dataframe tbody tr th:only-of-type {\n",
              "        vertical-align: middle;\n",
              "    }\n",
              "\n",
              "    .dataframe tbody tr th {\n",
              "        vertical-align: top;\n",
              "    }\n",
              "\n",
              "    .dataframe thead th {\n",
              "        text-align: right;\n",
              "    }\n",
              "</style>\n",
              "<table border=\"1\" class=\"dataframe\">\n",
              "  <thead>\n",
              "    <tr style=\"text-align: right;\">\n",
              "      <th></th>\n",
              "      <th>Runs</th>\n",
              "      <th>Ave</th>\n",
              "      <th>SR</th>\n",
              "      <th>Fours</th>\n",
              "      <th>Sixes</th>\n",
              "      <th>HF</th>\n",
              "      <th>avg</th>\n",
              "      <th>GROUP</th>\n",
              "    </tr>\n",
              "  </thead>\n",
              "  <tbody>\n",
              "    <tr>\n",
              "      <th>1</th>\n",
              "      <td>733.0</td>\n",
              "      <td>61.08</td>\n",
              "      <td>160.74</td>\n",
              "      <td>46.0</td>\n",
              "      <td>59.0</td>\n",
              "      <td>9.0</td>\n",
              "      <td>2</td>\n",
              "      <td>4</td>\n",
              "    </tr>\n",
              "    <tr>\n",
              "      <th>3</th>\n",
              "      <td>590.0</td>\n",
              "      <td>36.87</td>\n",
              "      <td>143.55</td>\n",
              "      <td>64.0</td>\n",
              "      <td>17.0</td>\n",
              "      <td>6.0</td>\n",
              "      <td>2</td>\n",
              "      <td>1</td>\n",
              "    </tr>\n",
              "    <tr>\n",
              "      <th>5</th>\n",
              "      <td>495.0</td>\n",
              "      <td>33.00</td>\n",
              "      <td>161.23</td>\n",
              "      <td>57.0</td>\n",
              "      <td>19.0</td>\n",
              "      <td>5.0</td>\n",
              "      <td>2</td>\n",
              "      <td>1</td>\n",
              "    </tr>\n",
              "    <tr>\n",
              "      <th>7</th>\n",
              "      <td>479.0</td>\n",
              "      <td>43.54</td>\n",
              "      <td>149.68</td>\n",
              "      <td>41.0</td>\n",
              "      <td>20.0</td>\n",
              "      <td>5.0</td>\n",
              "      <td>2</td>\n",
              "      <td>1</td>\n",
              "    </tr>\n",
              "    <tr>\n",
              "      <th>9</th>\n",
              "      <td>569.0</td>\n",
              "      <td>40.64</td>\n",
              "      <td>129.61</td>\n",
              "      <td>58.0</td>\n",
              "      <td>18.0</td>\n",
              "      <td>5.0</td>\n",
              "      <td>2</td>\n",
              "      <td>1</td>\n",
              "    </tr>\n",
              "  </tbody>\n",
              "</table>\n",
              "</div>"
            ],
            "text/plain": [
              "    Runs    Ave      SR  Fours  Sixes   HF  avg  GROUP\n",
              "1  733.0  61.08  160.74   46.0   59.0  9.0    2      4\n",
              "3  590.0  36.87  143.55   64.0   17.0  6.0    2      1\n",
              "5  495.0  33.00  161.23   57.0   19.0  5.0    2      1\n",
              "7  479.0  43.54  149.68   41.0   20.0  5.0    2      1\n",
              "9  569.0  40.64  129.61   58.0   18.0  5.0    2      1"
            ]
          },
          "metadata": {
            "tags": []
          },
          "execution_count": 50
        }
      ]
    },
    {
      "cell_type": "code",
      "metadata": {
        "colab": {
          "base_uri": "https://localhost:8080/",
          "height": 225
        },
        "id": "fu1IIg0LQhFo",
        "outputId": "b3d7f8e8-9fb1-4507-97ad-2297c4b13ae1"
      },
      "source": [
        "pSuppClust = df1.groupby(['GROUP'])\n",
        "pSuppClust.mean()"
      ],
      "execution_count": 51,
      "outputs": [
        {
          "output_type": "execute_result",
          "data": {
            "text/html": [
              "<div>\n",
              "<style scoped>\n",
              "    .dataframe tbody tr th:only-of-type {\n",
              "        vertical-align: middle;\n",
              "    }\n",
              "\n",
              "    .dataframe tbody tr th {\n",
              "        vertical-align: top;\n",
              "    }\n",
              "\n",
              "    .dataframe thead th {\n",
              "        text-align: right;\n",
              "    }\n",
              "</style>\n",
              "<table border=\"1\" class=\"dataframe\">\n",
              "  <thead>\n",
              "    <tr style=\"text-align: right;\">\n",
              "      <th></th>\n",
              "      <th>Runs</th>\n",
              "      <th>Ave</th>\n",
              "      <th>SR</th>\n",
              "      <th>Fours</th>\n",
              "      <th>Sixes</th>\n",
              "      <th>HF</th>\n",
              "      <th>avg</th>\n",
              "    </tr>\n",
              "    <tr>\n",
              "      <th>GROUP</th>\n",
              "      <th></th>\n",
              "      <th></th>\n",
              "      <th></th>\n",
              "      <th></th>\n",
              "      <th></th>\n",
              "      <th></th>\n",
              "      <th></th>\n",
              "    </tr>\n",
              "  </thead>\n",
              "  <tbody>\n",
              "    <tr>\n",
              "      <th>0</th>\n",
              "      <td>128.295455</td>\n",
              "      <td>18.871136</td>\n",
              "      <td>117.022500</td>\n",
              "      <td>10.613636</td>\n",
              "      <td>3.727273</td>\n",
              "      <td>0.204545</td>\n",
              "      <td>0</td>\n",
              "    </tr>\n",
              "    <tr>\n",
              "      <th>1</th>\n",
              "      <td>521.000000</td>\n",
              "      <td>37.495000</td>\n",
              "      <td>140.000000</td>\n",
              "      <td>55.333333</td>\n",
              "      <td>17.000000</td>\n",
              "      <td>5.166667</td>\n",
              "      <td>2</td>\n",
              "    </tr>\n",
              "    <tr>\n",
              "      <th>2</th>\n",
              "      <td>318.312500</td>\n",
              "      <td>33.779062</td>\n",
              "      <td>129.269375</td>\n",
              "      <td>29.000000</td>\n",
              "      <td>11.125000</td>\n",
              "      <td>1.812500</td>\n",
              "      <td>1</td>\n",
              "    </tr>\n",
              "    <tr>\n",
              "      <th>3</th>\n",
              "      <td>14.857143</td>\n",
              "      <td>4.054286</td>\n",
              "      <td>62.631429</td>\n",
              "      <td>1.142857</td>\n",
              "      <td>0.142857</td>\n",
              "      <td>0.000000</td>\n",
              "      <td>0</td>\n",
              "    </tr>\n",
              "    <tr>\n",
              "      <th>4</th>\n",
              "      <td>733.000000</td>\n",
              "      <td>61.080000</td>\n",
              "      <td>160.740000</td>\n",
              "      <td>46.000000</td>\n",
              "      <td>59.000000</td>\n",
              "      <td>9.000000</td>\n",
              "      <td>2</td>\n",
              "    </tr>\n",
              "  </tbody>\n",
              "</table>\n",
              "</div>"
            ],
            "text/plain": [
              "             Runs        Ave          SR      Fours      Sixes        HF  avg\n",
              "GROUP                                                                        \n",
              "0      128.295455  18.871136  117.022500  10.613636   3.727273  0.204545    0\n",
              "1      521.000000  37.495000  140.000000  55.333333  17.000000  5.166667    2\n",
              "2      318.312500  33.779062  129.269375  29.000000  11.125000  1.812500    1\n",
              "3       14.857143   4.054286   62.631429   1.142857   0.142857  0.000000    0\n",
              "4      733.000000  61.080000  160.740000  46.000000  59.000000  9.000000    2"
            ]
          },
          "metadata": {
            "tags": []
          },
          "execution_count": 51
        }
      ]
    },
    {
      "cell_type": "code",
      "metadata": {
        "colab": {
          "base_uri": "https://localhost:8080/",
          "height": 1000
        },
        "id": "CYAOKnAaQpYA",
        "outputId": "b22f1d4f-781f-45b0-8eca-c737e52ac1f0"
      },
      "source": [
        "XScaled.boxplot(by='GROUP', layout = (2,4),figsize=(15,10))"
      ],
      "execution_count": 52,
      "outputs": [
        {
          "output_type": "stream",
          "text": [
            "/usr/local/lib/python3.7/dist-packages/numpy/core/_asarray.py:83: VisibleDeprecationWarning: Creating an ndarray from ragged nested sequences (which is a list-or-tuple of lists-or-tuples-or ndarrays with different lengths or shapes) is deprecated. If you meant to do this, you must specify 'dtype=object' when creating the ndarray\n",
            "  return array(a, dtype, copy=False, order=order)\n",
            "/usr/local/lib/python3.7/dist-packages/numpy/core/_asarray.py:83: VisibleDeprecationWarning: Creating an ndarray from ragged nested sequences (which is a list-or-tuple of lists-or-tuples-or ndarrays with different lengths or shapes) is deprecated. If you meant to do this, you must specify 'dtype=object' when creating the ndarray\n",
            "  return array(a, dtype, copy=False, order=order)\n",
            "/usr/local/lib/python3.7/dist-packages/numpy/core/_asarray.py:83: VisibleDeprecationWarning: Creating an ndarray from ragged nested sequences (which is a list-or-tuple of lists-or-tuples-or ndarrays with different lengths or shapes) is deprecated. If you meant to do this, you must specify 'dtype=object' when creating the ndarray\n",
            "  return array(a, dtype, copy=False, order=order)\n",
            "/usr/local/lib/python3.7/dist-packages/numpy/core/_asarray.py:83: VisibleDeprecationWarning: Creating an ndarray from ragged nested sequences (which is a list-or-tuple of lists-or-tuples-or ndarrays with different lengths or shapes) is deprecated. If you meant to do this, you must specify 'dtype=object' when creating the ndarray\n",
            "  return array(a, dtype, copy=False, order=order)\n",
            "/usr/local/lib/python3.7/dist-packages/numpy/core/_asarray.py:83: VisibleDeprecationWarning: Creating an ndarray from ragged nested sequences (which is a list-or-tuple of lists-or-tuples-or ndarrays with different lengths or shapes) is deprecated. If you meant to do this, you must specify 'dtype=object' when creating the ndarray\n",
            "  return array(a, dtype, copy=False, order=order)\n",
            "/usr/local/lib/python3.7/dist-packages/numpy/core/_asarray.py:83: VisibleDeprecationWarning: Creating an ndarray from ragged nested sequences (which is a list-or-tuple of lists-or-tuples-or ndarrays with different lengths or shapes) is deprecated. If you meant to do this, you must specify 'dtype=object' when creating the ndarray\n",
            "  return array(a, dtype, copy=False, order=order)\n"
          ],
          "name": "stderr"
        },
        {
          "output_type": "execute_result",
          "data": {
            "text/plain": [
              "array([[<matplotlib.axes._subplots.AxesSubplot object at 0x7fcb4fd5a490>,\n",
              "        <matplotlib.axes._subplots.AxesSubplot object at 0x7fcb4cc46390>,\n",
              "        <matplotlib.axes._subplots.AxesSubplot object at 0x7fcb4cbe9310>,\n",
              "        <matplotlib.axes._subplots.AxesSubplot object at 0x7fcb4cb9f4d0>],\n",
              "       [<matplotlib.axes._subplots.AxesSubplot object at 0x7fcb4cb556d0>,\n",
              "        <matplotlib.axes._subplots.AxesSubplot object at 0x7fcb4cb8d8d0>,\n",
              "        <matplotlib.axes._subplots.AxesSubplot object at 0x7fcb4cb45ad0>,\n",
              "        <matplotlib.axes._subplots.AxesSubplot object at 0x7fcb4ca8f1d0>]],\n",
              "      dtype=object)"
            ]
          },
          "metadata": {
            "tags": []
          },
          "execution_count": 52
        },
        {
          "output_type": "display_data",
          "data": {
            "image/png": "[encoded data removed]",
            "text/plain": [
              "<Figure size 1080x720 with 8 Axes>"
            ]
          },
          "metadata": {
            "tags": [],
            "needs_background": "light"
          }
        }
      ]
    },
    {
      "cell_type": "markdown",
      "metadata": {
        "id": "ShNi4qCvZhuZ"
      },
      "source": [
        "Conclusion: \n",
        "W e have used 2 different methods in above notebook\n",
        "1. PCA for finding the players ranking and this model with liner fit method using avg column gave 0.62 result and it looks like it's drop from 0.62 to 0.59 result which is not a big difference.\n",
        "\n",
        "2. we used k-means clustering method: in this method we obsereved that we can choose based on which ever atrribute like avg,strike rate is more important for their better results in business."
      ]
    }
  ]
}