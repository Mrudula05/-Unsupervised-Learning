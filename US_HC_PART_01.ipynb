{
  "nbformat": 4,
  "nbformat_minor": 0,
  "metadata": {
    "colab": {
      "name": "US_HC_PART-01.ipynb",
      "provenance": []
    },
    "kernelspec": {
      "name": "python3",
      "display_name": "Python 3"
    },
    "language_info": {
      "name": "python"
    }
  },
  "cells": [
    {
      "cell_type": "code",
      "metadata": {
        "id": "3mkNJl0ttn10"
      },
      "source": [
        "import pandas as pd\n",
        "import numpy as np\n",
        "import json\n",
        "import os, glob\n",
        "import seaborn as sns\n",
        "import matplotlib.pyplot as plt\n",
        "%matplotlib inline\n",
        "from scipy.stats import zscore"
      ],
      "execution_count": null,
      "outputs": []
    },
    {
      "cell_type": "code",
      "metadata": {
        "id": "dJBpnMLyuD2n"
      },
      "source": [
        "# load json file using pandas\n",
        "df1 = pd.read_json('Part1 - Car-Attributes.json')\n"
      ],
      "execution_count": null,
      "outputs": []
    },
    {
      "cell_type": "code",
      "metadata": {
        "id": "s4gb65kWuOBL"
      },
      "source": [
        "# convert dataframe to csv file\n",
        "df1.to_csv(\"Part1-Cars-A.csv\",index=False)"
      ],
      "execution_count": null,
      "outputs": []
    },
    {
      "cell_type": "code",
      "metadata": {
        "id": "MNbZnBzduQEi"
      },
      "source": [
        "df2 = pd.read_csv(\"Part1 - Car name.csv\")"
      ],
      "execution_count": null,
      "outputs": []
    },
    {
      "cell_type": "code",
      "metadata": {
        "colab": {
          "base_uri": "https://localhost:8080/"
        },
        "id": "GQ1PrF34uScn",
        "outputId": "1be82ce1-57c0-41a3-cafe-ecf98e60f491"
      },
      "source": [
        "df = pd.concat([df1, df2], axis=1, join='inner')\n",
        "\n",
        "\n",
        "print(df.head())\n",
        "df.to_csv('cars_merged.csv')"
      ],
      "execution_count": null,
      "outputs": [
        {
          "output_type": "stream",
          "text": [
            "    mpg  cyl   disp   hp    wt   acc  yr  origin                   car_name\n",
            "0  18.0    8  307.0  130  3504  12.0  70       1  chevrolet chevelle malibu\n",
            "1  15.0    8  350.0  165  3693  11.5  70       1          buick skylark 320\n",
            "2  18.0    8  318.0  150  3436  11.0  70       1         plymouth satellite\n",
            "3  16.0    8  304.0  150  3433  12.0  70       1              amc rebel sst\n",
            "4  17.0    8  302.0  140  3449  10.5  70       1                ford torino\n"
          ],
          "name": "stdout"
        }
      ]
    },
    {
      "cell_type": "code",
      "metadata": {
        "colab": {
          "base_uri": "https://localhost:8080/",
          "height": 343
        },
        "id": "VdXgTyZFue1Z",
        "outputId": "afc0f6b3-fc52-4d25-967f-70de8bb7f1ee"
      },
      "source": [
        "df.head(10)"
      ],
      "execution_count": null,
      "outputs": [
        {
          "output_type": "execute_result",
          "data": {
            "text/html": [
              "<div>\n",
              "<style scoped>\n",
              "    .dataframe tbody tr th:only-of-type {\n",
              "        vertical-align: middle;\n",
              "    }\n",
              "\n",
              "    .dataframe tbody tr th {\n",
              "        vertical-align: top;\n",
              "    }\n",
              "\n",
              "    .dataframe thead th {\n",
              "        text-align: right;\n",
              "    }\n",
              "</style>\n",
              "<table border=\"1\" class=\"dataframe\">\n",
              "  <thead>\n",
              "    <tr style=\"text-align: right;\">\n",
              "      <th></th>\n",
              "      <th>mpg</th>\n",
              "      <th>cyl</th>\n",
              "      <th>disp</th>\n",
              "      <th>hp</th>\n",
              "      <th>wt</th>\n",
              "      <th>acc</th>\n",
              "      <th>yr</th>\n",
              "      <th>origin</th>\n",
              "      <th>car_name</th>\n",
              "    </tr>\n",
              "  </thead>\n",
              "  <tbody>\n",
              "    <tr>\n",
              "      <th>0</th>\n",
              "      <td>18.0</td>\n",
              "      <td>8</td>\n",
              "      <td>307.0</td>\n",
              "      <td>130</td>\n",
              "      <td>3504</td>\n",
              "      <td>12.0</td>\n",
              "      <td>70</td>\n",
              "      <td>1</td>\n",
              "      <td>chevrolet chevelle malibu</td>\n",
              "    </tr>\n",
              "    <tr>\n",
              "      <th>1</th>\n",
              "      <td>15.0</td>\n",
              "      <td>8</td>\n",
              "      <td>350.0</td>\n",
              "      <td>165</td>\n",
              "      <td>3693</td>\n",
              "      <td>11.5</td>\n",
              "      <td>70</td>\n",
              "      <td>1</td>\n",
              "      <td>buick skylark 320</td>\n",
              "    </tr>\n",
              "    <tr>\n",
              "      <th>2</th>\n",
              "      <td>18.0</td>\n",
              "      <td>8</td>\n",
              "      <td>318.0</td>\n",
              "      <td>150</td>\n",
              "      <td>3436</td>\n",
              "      <td>11.0</td>\n",
              "      <td>70</td>\n",
              "      <td>1</td>\n",
              "      <td>plymouth satellite</td>\n",
              "    </tr>\n",
              "    <tr>\n",
              "      <th>3</th>\n",
              "      <td>16.0</td>\n",
              "      <td>8</td>\n",
              "      <td>304.0</td>\n",
              "      <td>150</td>\n",
              "      <td>3433</td>\n",
              "      <td>12.0</td>\n",
              "      <td>70</td>\n",
              "      <td>1</td>\n",
              "      <td>amc rebel sst</td>\n",
              "    </tr>\n",
              "    <tr>\n",
              "      <th>4</th>\n",
              "      <td>17.0</td>\n",
              "      <td>8</td>\n",
              "      <td>302.0</td>\n",
              "      <td>140</td>\n",
              "      <td>3449</td>\n",
              "      <td>10.5</td>\n",
              "      <td>70</td>\n",
              "      <td>1</td>\n",
              "      <td>ford torino</td>\n",
              "    </tr>\n",
              "    <tr>\n",
              "      <th>5</th>\n",
              "      <td>15.0</td>\n",
              "      <td>8</td>\n",
              "      <td>429.0</td>\n",
              "      <td>198</td>\n",
              "      <td>4341</td>\n",
              "      <td>10.0</td>\n",
              "      <td>70</td>\n",
              "      <td>1</td>\n",
              "      <td>ford galaxie 500</td>\n",
              "    </tr>\n",
              "    <tr>\n",
              "      <th>6</th>\n",
              "      <td>14.0</td>\n",
              "      <td>8</td>\n",
              "      <td>454.0</td>\n",
              "      <td>220</td>\n",
              "      <td>4354</td>\n",
              "      <td>9.0</td>\n",
              "      <td>70</td>\n",
              "      <td>1</td>\n",
              "      <td>chevrolet impala</td>\n",
              "    </tr>\n",
              "    <tr>\n",
              "      <th>7</th>\n",
              "      <td>14.0</td>\n",
              "      <td>8</td>\n",
              "      <td>440.0</td>\n",
              "      <td>215</td>\n",
              "      <td>4312</td>\n",
              "      <td>8.5</td>\n",
              "      <td>70</td>\n",
              "      <td>1</td>\n",
              "      <td>plymouth fury iii</td>\n",
              "    </tr>\n",
              "    <tr>\n",
              "      <th>8</th>\n",
              "      <td>14.0</td>\n",
              "      <td>8</td>\n",
              "      <td>455.0</td>\n",
              "      <td>225</td>\n",
              "      <td>4425</td>\n",
              "      <td>10.0</td>\n",
              "      <td>70</td>\n",
              "      <td>1</td>\n",
              "      <td>pontiac catalina</td>\n",
              "    </tr>\n",
              "    <tr>\n",
              "      <th>9</th>\n",
              "      <td>15.0</td>\n",
              "      <td>8</td>\n",
              "      <td>390.0</td>\n",
              "      <td>190</td>\n",
              "      <td>3850</td>\n",
              "      <td>8.5</td>\n",
              "      <td>70</td>\n",
              "      <td>1</td>\n",
              "      <td>amc ambassador dpl</td>\n",
              "    </tr>\n",
              "  </tbody>\n",
              "</table>\n",
              "</div>"
            ],
            "text/plain": [
              "    mpg  cyl   disp   hp    wt   acc  yr  origin                   car_name\n",
              "0  18.0    8  307.0  130  3504  12.0  70       1  chevrolet chevelle malibu\n",
              "1  15.0    8  350.0  165  3693  11.5  70       1          buick skylark 320\n",
              "2  18.0    8  318.0  150  3436  11.0  70       1         plymouth satellite\n",
              "3  16.0    8  304.0  150  3433  12.0  70       1              amc rebel sst\n",
              "4  17.0    8  302.0  140  3449  10.5  70       1                ford torino\n",
              "5  15.0    8  429.0  198  4341  10.0  70       1           ford galaxie 500\n",
              "6  14.0    8  454.0  220  4354   9.0  70       1           chevrolet impala\n",
              "7  14.0    8  440.0  215  4312   8.5  70       1          plymouth fury iii\n",
              "8  14.0    8  455.0  225  4425  10.0  70       1           pontiac catalina\n",
              "9  15.0    8  390.0  190  3850   8.5  70       1         amc ambassador dpl"
            ]
          },
          "metadata": {
            "tags": []
          },
          "execution_count": 22
        }
      ]
    },
    {
      "cell_type": "code",
      "metadata": {
        "colab": {
          "base_uri": "https://localhost:8080/"
        },
        "id": "LfiQ4eUCuik9",
        "outputId": "ece9097c-e987-4bea-e2bd-d541955918bf"
      },
      "source": [
        "df.dtypes"
      ],
      "execution_count": null,
      "outputs": [
        {
          "output_type": "execute_result",
          "data": {
            "text/plain": [
              "mpg         float64\n",
              "cyl           int64\n",
              "disp        float64\n",
              "hp           object\n",
              "wt            int64\n",
              "acc         float64\n",
              "yr            int64\n",
              "origin        int64\n",
              "car_name     object\n",
              "dtype: object"
            ]
          },
          "metadata": {
            "tags": []
          },
          "execution_count": 23
        }
      ]
    },
    {
      "cell_type": "code",
      "metadata": {
        "colab": {
          "base_uri": "https://localhost:8080/"
        },
        "id": "fzETYLzuukjw",
        "outputId": "92e39d4d-0d2d-47a6-8357-f2272e019422"
      },
      "source": [
        "df.shape"
      ],
      "execution_count": null,
      "outputs": [
        {
          "output_type": "execute_result",
          "data": {
            "text/plain": [
              "(398, 9)"
            ]
          },
          "metadata": {
            "tags": []
          },
          "execution_count": 24
        }
      ]
    },
    {
      "cell_type": "code",
      "metadata": {
        "colab": {
          "base_uri": "https://localhost:8080/"
        },
        "id": "bHAejiKvum3a",
        "outputId": "85f2d61d-aee2-422a-a860-e384fca7485d"
      },
      "source": [
        "df.size"
      ],
      "execution_count": null,
      "outputs": [
        {
          "output_type": "execute_result",
          "data": {
            "text/plain": [
              "3582"
            ]
          },
          "metadata": {
            "tags": []
          },
          "execution_count": 25
        }
      ]
    },
    {
      "cell_type": "code",
      "metadata": {
        "colab": {
          "base_uri": "https://localhost:8080/",
          "height": 284
        },
        "id": "RmlEnFi5up6C",
        "outputId": "c64e0e3a-13a0-475d-b1df-90e31ed9b9dc"
      },
      "source": [
        "df.describe()"
      ],
      "execution_count": null,
      "outputs": [
        {
          "output_type": "execute_result",
          "data": {
            "text/html": [
              "<div>\n",
              "<style scoped>\n",
              "    .dataframe tbody tr th:only-of-type {\n",
              "        vertical-align: middle;\n",
              "    }\n",
              "\n",
              "    .dataframe tbody tr th {\n",
              "        vertical-align: top;\n",
              "    }\n",
              "\n",
              "    .dataframe thead th {\n",
              "        text-align: right;\n",
              "    }\n",
              "</style>\n",
              "<table border=\"1\" class=\"dataframe\">\n",
              "  <thead>\n",
              "    <tr style=\"text-align: right;\">\n",
              "      <th></th>\n",
              "      <th>mpg</th>\n",
              "      <th>cyl</th>\n",
              "      <th>disp</th>\n",
              "      <th>wt</th>\n",
              "      <th>acc</th>\n",
              "      <th>yr</th>\n",
              "      <th>origin</th>\n",
              "    </tr>\n",
              "  </thead>\n",
              "  <tbody>\n",
              "    <tr>\n",
              "      <th>count</th>\n",
              "      <td>398.000000</td>\n",
              "      <td>398.000000</td>\n",
              "      <td>398.000000</td>\n",
              "      <td>398.000000</td>\n",
              "      <td>398.000000</td>\n",
              "      <td>398.000000</td>\n",
              "      <td>398.000000</td>\n",
              "    </tr>\n",
              "    <tr>\n",
              "      <th>mean</th>\n",
              "      <td>23.514573</td>\n",
              "      <td>5.454774</td>\n",
              "      <td>193.425879</td>\n",
              "      <td>2970.424623</td>\n",
              "      <td>15.568090</td>\n",
              "      <td>76.010050</td>\n",
              "      <td>1.572864</td>\n",
              "    </tr>\n",
              "    <tr>\n",
              "      <th>std</th>\n",
              "      <td>7.815984</td>\n",
              "      <td>1.701004</td>\n",
              "      <td>104.269838</td>\n",
              "      <td>846.841774</td>\n",
              "      <td>2.757689</td>\n",
              "      <td>3.697627</td>\n",
              "      <td>0.802055</td>\n",
              "    </tr>\n",
              "    <tr>\n",
              "      <th>min</th>\n",
              "      <td>9.000000</td>\n",
              "      <td>3.000000</td>\n",
              "      <td>68.000000</td>\n",
              "      <td>1613.000000</td>\n",
              "      <td>8.000000</td>\n",
              "      <td>70.000000</td>\n",
              "      <td>1.000000</td>\n",
              "    </tr>\n",
              "    <tr>\n",
              "      <th>25%</th>\n",
              "      <td>17.500000</td>\n",
              "      <td>4.000000</td>\n",
              "      <td>104.250000</td>\n",
              "      <td>2223.750000</td>\n",
              "      <td>13.825000</td>\n",
              "      <td>73.000000</td>\n",
              "      <td>1.000000</td>\n",
              "    </tr>\n",
              "    <tr>\n",
              "      <th>50%</th>\n",
              "      <td>23.000000</td>\n",
              "      <td>4.000000</td>\n",
              "      <td>148.500000</td>\n",
              "      <td>2803.500000</td>\n",
              "      <td>15.500000</td>\n",
              "      <td>76.000000</td>\n",
              "      <td>1.000000</td>\n",
              "    </tr>\n",
              "    <tr>\n",
              "      <th>75%</th>\n",
              "      <td>29.000000</td>\n",
              "      <td>8.000000</td>\n",
              "      <td>262.000000</td>\n",
              "      <td>3608.000000</td>\n",
              "      <td>17.175000</td>\n",
              "      <td>79.000000</td>\n",
              "      <td>2.000000</td>\n",
              "    </tr>\n",
              "    <tr>\n",
              "      <th>max</th>\n",
              "      <td>46.600000</td>\n",
              "      <td>8.000000</td>\n",
              "      <td>455.000000</td>\n",
              "      <td>5140.000000</td>\n",
              "      <td>24.800000</td>\n",
              "      <td>82.000000</td>\n",
              "      <td>3.000000</td>\n",
              "    </tr>\n",
              "  </tbody>\n",
              "</table>\n",
              "</div>"
            ],
            "text/plain": [
              "              mpg         cyl        disp  ...         acc          yr      origin\n",
              "count  398.000000  398.000000  398.000000  ...  398.000000  398.000000  398.000000\n",
              "mean    23.514573    5.454774  193.425879  ...   15.568090   76.010050    1.572864\n",
              "std      7.815984    1.701004  104.269838  ...    2.757689    3.697627    0.802055\n",
              "min      9.000000    3.000000   68.000000  ...    8.000000   70.000000    1.000000\n",
              "25%     17.500000    4.000000  104.250000  ...   13.825000   73.000000    1.000000\n",
              "50%     23.000000    4.000000  148.500000  ...   15.500000   76.000000    1.000000\n",
              "75%     29.000000    8.000000  262.000000  ...   17.175000   79.000000    2.000000\n",
              "max     46.600000    8.000000  455.000000  ...   24.800000   82.000000    3.000000\n",
              "\n",
              "[8 rows x 7 columns]"
            ]
          },
          "metadata": {
            "tags": []
          },
          "execution_count": 26
        }
      ]
    },
    {
      "cell_type": "code",
      "metadata": {
        "colab": {
          "base_uri": "https://localhost:8080/",
          "height": 195
        },
        "id": "pZ6oIpaUuxZH",
        "outputId": "8360d26d-6b5e-41cd-85ec-31c65d755f77"
      },
      "source": [
        "carDataAttr=df.iloc[:,[0,1,2,3,4,5]]\n",
        "carDataAttr.head()"
      ],
      "execution_count": null,
      "outputs": [
        {
          "output_type": "execute_result",
          "data": {
            "text/html": [
              "<div>\n",
              "<style scoped>\n",
              "    .dataframe tbody tr th:only-of-type {\n",
              "        vertical-align: middle;\n",
              "    }\n",
              "\n",
              "    .dataframe tbody tr th {\n",
              "        vertical-align: top;\n",
              "    }\n",
              "\n",
              "    .dataframe thead th {\n",
              "        text-align: right;\n",
              "    }\n",
              "</style>\n",
              "<table border=\"1\" class=\"dataframe\">\n",
              "  <thead>\n",
              "    <tr style=\"text-align: right;\">\n",
              "      <th></th>\n",
              "      <th>mpg</th>\n",
              "      <th>cyl</th>\n",
              "      <th>disp</th>\n",
              "      <th>hp</th>\n",
              "      <th>wt</th>\n",
              "      <th>acc</th>\n",
              "    </tr>\n",
              "  </thead>\n",
              "  <tbody>\n",
              "    <tr>\n",
              "      <th>0</th>\n",
              "      <td>18.0</td>\n",
              "      <td>8</td>\n",
              "      <td>307.0</td>\n",
              "      <td>130</td>\n",
              "      <td>3504</td>\n",
              "      <td>12.0</td>\n",
              "    </tr>\n",
              "    <tr>\n",
              "      <th>1</th>\n",
              "      <td>15.0</td>\n",
              "      <td>8</td>\n",
              "      <td>350.0</td>\n",
              "      <td>165</td>\n",
              "      <td>3693</td>\n",
              "      <td>11.5</td>\n",
              "    </tr>\n",
              "    <tr>\n",
              "      <th>2</th>\n",
              "      <td>18.0</td>\n",
              "      <td>8</td>\n",
              "      <td>318.0</td>\n",
              "      <td>150</td>\n",
              "      <td>3436</td>\n",
              "      <td>11.0</td>\n",
              "    </tr>\n",
              "    <tr>\n",
              "      <th>3</th>\n",
              "      <td>16.0</td>\n",
              "      <td>8</td>\n",
              "      <td>304.0</td>\n",
              "      <td>150</td>\n",
              "      <td>3433</td>\n",
              "      <td>12.0</td>\n",
              "    </tr>\n",
              "    <tr>\n",
              "      <th>4</th>\n",
              "      <td>17.0</td>\n",
              "      <td>8</td>\n",
              "      <td>302.0</td>\n",
              "      <td>140</td>\n",
              "      <td>3449</td>\n",
              "      <td>10.5</td>\n",
              "    </tr>\n",
              "  </tbody>\n",
              "</table>\n",
              "</div>"
            ],
            "text/plain": [
              "    mpg  cyl   disp   hp    wt   acc\n",
              "0  18.0    8  307.0  130  3504  12.0\n",
              "1  15.0    8  350.0  165  3693  11.5\n",
              "2  18.0    8  318.0  150  3436  11.0\n",
              "3  16.0    8  304.0  150  3433  12.0\n",
              "4  17.0    8  302.0  140  3449  10.5"
            ]
          },
          "metadata": {
            "tags": []
          },
          "execution_count": 27
        }
      ]
    },
    {
      "cell_type": "code",
      "metadata": {
        "colab": {
          "base_uri": "https://localhost:8080/"
        },
        "id": "ITGDrNaswlaI",
        "outputId": "f5a0053c-bc8f-4f90-e157-01c54e6a8fc4"
      },
      "source": [
        "carDataAttr.isna().sum()"
      ],
      "execution_count": null,
      "outputs": [
        {
          "output_type": "execute_result",
          "data": {
            "text/plain": [
              "mpg     0\n",
              "cyl     0\n",
              "disp    0\n",
              "hp      0\n",
              "wt      0\n",
              "acc     0\n",
              "dtype: int64"
            ]
          },
          "metadata": {
            "tags": []
          },
          "execution_count": 28
        }
      ]
    },
    {
      "cell_type": "code",
      "metadata": {
        "colab": {
          "base_uri": "https://localhost:8080/",
          "height": 225
        },
        "id": "eOhWUqshw7I1",
        "outputId": "05fd48f1-0bf7-4828-b4f8-f5f10ec897d5"
      },
      "source": [
        "# Na shows no missing value, but on careful data observation we could see \"?\" for hp \n",
        "carDataAttr[carDataAttr['hp']==\"?\"]"
      ],
      "execution_count": null,
      "outputs": [
        {
          "output_type": "execute_result",
          "data": {
            "text/html": [
              "<div>\n",
              "<style scoped>\n",
              "    .dataframe tbody tr th:only-of-type {\n",
              "        vertical-align: middle;\n",
              "    }\n",
              "\n",
              "    .dataframe tbody tr th {\n",
              "        vertical-align: top;\n",
              "    }\n",
              "\n",
              "    .dataframe thead th {\n",
              "        text-align: right;\n",
              "    }\n",
              "</style>\n",
              "<table border=\"1\" class=\"dataframe\">\n",
              "  <thead>\n",
              "    <tr style=\"text-align: right;\">\n",
              "      <th></th>\n",
              "      <th>mpg</th>\n",
              "      <th>cyl</th>\n",
              "      <th>disp</th>\n",
              "      <th>hp</th>\n",
              "      <th>wt</th>\n",
              "      <th>acc</th>\n",
              "    </tr>\n",
              "  </thead>\n",
              "  <tbody>\n",
              "    <tr>\n",
              "      <th>32</th>\n",
              "      <td>25.0</td>\n",
              "      <td>4</td>\n",
              "      <td>98.0</td>\n",
              "      <td>?</td>\n",
              "      <td>2046</td>\n",
              "      <td>19.0</td>\n",
              "    </tr>\n",
              "    <tr>\n",
              "      <th>126</th>\n",
              "      <td>21.0</td>\n",
              "      <td>6</td>\n",
              "      <td>200.0</td>\n",
              "      <td>?</td>\n",
              "      <td>2875</td>\n",
              "      <td>17.0</td>\n",
              "    </tr>\n",
              "    <tr>\n",
              "      <th>330</th>\n",
              "      <td>40.9</td>\n",
              "      <td>4</td>\n",
              "      <td>85.0</td>\n",
              "      <td>?</td>\n",
              "      <td>1835</td>\n",
              "      <td>17.3</td>\n",
              "    </tr>\n",
              "    <tr>\n",
              "      <th>336</th>\n",
              "      <td>23.6</td>\n",
              "      <td>4</td>\n",
              "      <td>140.0</td>\n",
              "      <td>?</td>\n",
              "      <td>2905</td>\n",
              "      <td>14.3</td>\n",
              "    </tr>\n",
              "    <tr>\n",
              "      <th>354</th>\n",
              "      <td>34.5</td>\n",
              "      <td>4</td>\n",
              "      <td>100.0</td>\n",
              "      <td>?</td>\n",
              "      <td>2320</td>\n",
              "      <td>15.8</td>\n",
              "    </tr>\n",
              "    <tr>\n",
              "      <th>374</th>\n",
              "      <td>23.0</td>\n",
              "      <td>4</td>\n",
              "      <td>151.0</td>\n",
              "      <td>?</td>\n",
              "      <td>3035</td>\n",
              "      <td>20.5</td>\n",
              "    </tr>\n",
              "  </tbody>\n",
              "</table>\n",
              "</div>"
            ],
            "text/plain": [
              "      mpg  cyl   disp hp    wt   acc\n",
              "32   25.0    4   98.0  ?  2046  19.0\n",
              "126  21.0    6  200.0  ?  2875  17.0\n",
              "330  40.9    4   85.0  ?  1835  17.3\n",
              "336  23.6    4  140.0  ?  2905  14.3\n",
              "354  34.5    4  100.0  ?  2320  15.8\n",
              "374  23.0    4  151.0  ?  3035  20.5"
            ]
          },
          "metadata": {
            "tags": []
          },
          "execution_count": 29
        }
      ]
    },
    {
      "cell_type": "code",
      "metadata": {
        "colab": {
          "base_uri": "https://localhost:8080/"
        },
        "id": "EHapY5vQxMn5",
        "outputId": "454b4322-3efb-480a-f646-50d64f5cae30"
      },
      "source": [
        "# Now try to impute with mean of respective cylinders, but before this we must see the distribution for the variable\n",
        "# We would drop na values and check distribution before taking call on whether imputation would be through mean, median \n",
        "import seaborn as sns\n",
        "hp = carDataAttr['hp'].dropna()\n",
        "hp.count()"
      ],
      "execution_count": null,
      "outputs": [
        {
          "output_type": "execute_result",
          "data": {
            "text/plain": [
              "398"
            ]
          },
          "metadata": {
            "tags": []
          },
          "execution_count": 30
        }
      ]
    },
    {
      "cell_type": "code",
      "metadata": {
        "id": "ayqhGOn4cOJq"
      },
      "source": [
        " carDataAttr['hp'] =  carDataAttr['hp'].apply(str).str.replace('?','')"
      ],
      "execution_count": 35,
      "outputs": []
    },
    {
      "cell_type": "code",
      "metadata": {
        "id": "gpgiycOLcRdn"
      },
      "source": [
        " carDataAttr['hp'] = pd.to_numeric( carDataAttr['hp'], errors='coerce')\n",
        " carDataAttr =  carDataAttr.dropna(subset=['hp'])\n",
        " carDataAttr['hp'] =  carDataAttr['hp'].astype(float)"
      ],
      "execution_count": 39,
      "outputs": []
    },
    {
      "cell_type": "code",
      "metadata": {
        "id": "rhINAZv4x5au"
      },
      "source": [
        "import seaborn as sns\n",
        "hp = carDataAttr['hp']"
      ],
      "execution_count": 40,
      "outputs": []
    },
    {
      "cell_type": "code",
      "metadata": {
        "id": "4ou7Vt89yYD8",
        "colab": {
          "base_uri": "https://localhost:8080/",
          "height": 350
        },
        "outputId": "d8278aa8-681d-4a84-c42e-08b10b5a90e2"
      },
      "source": [
        "sns.distplot(pd.to_numeric(hp))"
      ],
      "execution_count": 41,
      "outputs": [
        {
          "output_type": "stream",
          "text": [
            "/usr/local/lib/python3.7/dist-packages/seaborn/distributions.py:2557: FutureWarning: `distplot` is a deprecated function and will be removed in a future version. Please adapt your code to use either `displot` (a figure-level function with similar flexibility) or `histplot` (an axes-level function for histograms).\n",
            "  warnings.warn(msg, FutureWarning)\n"
          ],
          "name": "stderr"
        },
        {
          "output_type": "execute_result",
          "data": {
            "text/plain": [
              "<matplotlib.axes._subplots.AxesSubplot at 0x7f42f5c52950>"
            ]
          },
          "metadata": {
            "tags": []
          },
          "execution_count": 41
        },
        {
          "output_type": "display_data",
          "data": {
            "image/png": "[encoded data removed]",
            "text/plain": [
              "<Figure size 432x288 with 1 Axes>"
            ]
          },
          "metadata": {
            "tags": [],
            "needs_background": "light"
          }
        }
      ]
    },
    {
      "cell_type": "code",
      "metadata": {
        "id": "HFZPNA66ycNe"
      },
      "source": [
        "carDataScaled=carDataAttr.apply(zscore)\n",
        "carDataScaled.head(10)"
      ],
      "execution_count": null,
      "outputs": []
    },
    {
      "cell_type": "code",
      "metadata": {
        "id": "cqwwF2fVylKJ"
      },
      "source": [
        "#importing seaborn for statistical plots\n",
        "sns.pairplot(carDataScaled, height=2,aspect=2 , diag_kind='kde')"
      ],
      "execution_count": null,
      "outputs": []
    },
    {
      "cell_type": "code",
      "metadata": {
        "id": "p9lPAPHBywLa"
      },
      "source": [
        "from sklearn.cluster import AgglomerativeClustering "
      ],
      "execution_count": null,
      "outputs": []
    },
    {
      "cell_type": "code",
      "metadata": {
        "id": "-3Rb0HYOy0yS"
      },
      "source": [
        "model = AgglomerativeClustering(n_clusters=3, affinity='euclidean',  linkage='average')"
      ],
      "execution_count": null,
      "outputs": []
    },
    {
      "cell_type": "code",
      "metadata": {
        "id": "7NEDKQBby4WM"
      },
      "source": [
        "model.fit(carDataScaled)"
      ],
      "execution_count": null,
      "outputs": []
    },
    {
      "cell_type": "code",
      "metadata": {
        "id": "jwdO4j_zy9Zf"
      },
      "source": [
        "carDataAttr['labels'] = model.labels_\n",
        "carDataAttr.head(10)\n",
        "\n",
        "#carDataAttr.groupby([\"labels\"]).count()"
      ],
      "execution_count": null,
      "outputs": []
    },
    {
      "cell_type": "code",
      "metadata": {
        "id": "5RTONDWwzD2J"
      },
      "source": [
        "carDataClust = carDataAttr.groupby(['labels'])"
      ],
      "execution_count": null,
      "outputs": []
    },
    {
      "cell_type": "code",
      "metadata": {
        "id": "zcVLTmv-zJB3"
      },
      "source": [
        "carDataClust.mean()"
      ],
      "execution_count": null,
      "outputs": []
    },
    {
      "cell_type": "code",
      "metadata": {
        "id": "KMT4fPJbzNZV"
      },
      "source": [
        "from scipy.cluster.hierarchy import cophenet, dendrogram, linkage"
      ],
      "execution_count": null,
      "outputs": []
    },
    {
      "cell_type": "code",
      "metadata": {
        "id": "PZ8fYNnAzP2w"
      },
      "source": [
        "from scipy.spatial.distance import pdist  #Pairwise distribution between data points"
      ],
      "execution_count": null,
      "outputs": []
    },
    {
      "cell_type": "code",
      "metadata": {
        "id": "p8lPRROCzSzy"
      },
      "source": [
        "# cophenet index is a measure of the correlation between the distance of points in feature space and distance on dendrogram\n",
        "# closer it is to 1, the better is the clustering\n",
        "\n",
        "Z = linkage(carDataScaled, metric='euclidean', method='average')\n",
        "c, coph_dists = cophenet(Z , pdist(carDataScaled))\n",
        "\n",
        "c"
      ],
      "execution_count": null,
      "outputs": []
    },
    {
      "cell_type": "code",
      "metadata": {
        "id": "4hS693l2zZlR"
      },
      "source": [
        "plt.figure(figsize=(50, 5))\n",
        "plt.title('Agglomerative Hierarchical Clustering Dendogram')\n",
        "plt.xlabel('sample index')\n",
        "plt.ylabel('Distance')\n",
        "dendrogram(Z, leaf_rotation=90.,color_threshold = 40, leaf_font_size=8. )\n",
        "plt.tight_layout()"
      ],
      "execution_count": null,
      "outputs": []
    },
    {
      "cell_type": "code",
      "metadata": {
        "id": "c8dgKPNzzhJH"
      },
      "source": [
        "# cophenet index is a measure of the correlation between the distance of points in feature space and distance on dendrogram\n",
        "# closer it is to 1, the better is the clustering\n",
        "\n",
        "Z = linkage(carDataScaled, metric='euclidean', method='complete')\n",
        "c, coph_dists = cophenet(Z , pdist(carDataScaled))\n",
        "\n",
        "c"
      ],
      "execution_count": null,
      "outputs": []
    },
    {
      "cell_type": "code",
      "metadata": {
        "id": "cQUp2pGWzm__"
      },
      "source": [
        "plt.figure(figsize=(50, 5))\n",
        "plt.title('Agglomerative Hierarchical Clustering Dendogram')\n",
        "plt.xlabel('sample index')\n",
        "plt.ylabel('Distance')\n",
        "dendrogram(Z, leaf_rotation=90.,color_threshold=90,  leaf_font_size=10. )\n",
        "plt.tight_layout()"
      ],
      "execution_count": null,
      "outputs": []
    },
    {
      "cell_type": "code",
      "metadata": {
        "id": "FqXuHGyxz2p2"
      },
      "source": [
        "# cophenet index is a measure of the correlation between the distance of points in feature space and distance on dendrogram\n",
        "# closer it is to 1, the better is the clustering\n",
        "\n",
        "Z = linkage(carDataScaled, metric='euclidean', method='ward')\n",
        "c, coph_dists = cophenet(Z , pdist(carDataScaled))\n",
        "\n",
        "c"
      ],
      "execution_count": null,
      "outputs": []
    },
    {
      "cell_type": "code",
      "metadata": {
        "id": "K1DcVoO2z-tk"
      },
      "source": [
        "plt.figure(figsize=(50, 5))\n",
        "plt.title('Agglomerative Hierarchical Clustering Dendogram')\n",
        "plt.xlabel('sample index')\n",
        "plt.ylabel('Distance')\n",
        "dendrogram(Z, leaf_rotation=90.,color_threshold=600,  leaf_font_size=10. )\n",
        "plt.tight_layout()"
      ],
      "execution_count": null,
      "outputs": []
    },
    {
      "cell_type": "markdown",
      "metadata": {
        "id": "7SDyotKb0UWO"
      },
      "source": [
        "Conclusion : the Avergae method is giving us good results and complete method giving us very low results."
      ]
    }
  ]
}